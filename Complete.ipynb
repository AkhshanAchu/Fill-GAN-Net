{
 "cells": [
  {
   "cell_type": "code",
   "execution_count": 1,
   "id": "a2f1c762",
   "metadata": {},
   "outputs": [],
   "source": [
    "import torch\n",
    "import torch.nn as nn\n",
    "from torch.utils.data import DataLoader\n",
    "import torchvision\n",
    "from torchvision import transforms\n",
    "from torchvision.utils import save_image\n",
    "from torchvision.datasets import ImageFolder\n",
    "from model_64 import Generator, Discriminator, Self_Attn\n",
    "from IPython.display import clear_output\n",
    "import datetime\n",
    "import time\n",
    "import os\n",
    "import matplotlib.pyplot as plt"
   ]
  },
  {
   "cell_type": "code",
   "execution_count": 2,
   "id": "ac49963e",
   "metadata": {},
   "outputs": [],
   "source": [
    "import torch\n",
    "import torch.nn as nn\n",
    "from torch.utils.data import DataLoader\n",
    "import torchvision\n",
    "from torchvision import transforms\n",
    "from torchvision.utils import save_image\n",
    "from torchvision.datasets import ImageFolder\n",
    "from model_64 import Generator, Discriminator\n",
    "from IPython.display import clear_output\n",
    "import datetime\n",
    "import time\n",
    "import os"
   ]
  },
  {
   "cell_type": "code",
   "execution_count": 3,
   "id": "e1dfa133",
   "metadata": {},
   "outputs": [
    {
     "data": {
      "text/plain": [
       "<All keys matched successfully>"
      ]
     },
     "execution_count": 3,
     "metadata": {},
     "output_type": "execute_result"
    }
   ],
   "source": [
    "G = Generator()\n",
    "G.load_state_dict(torch.load(r\"C:\\Users\\akhsh\\Desktop\\WillDo\\Idid\\modelss\\5600_G.pth\"))"
   ]
  },
  {
   "cell_type": "code",
   "execution_count": 4,
   "id": "b1b69691",
   "metadata": {},
   "outputs": [
    {
     "data": {
      "text/plain": [
       "<All keys matched successfully>"
      ]
     },
     "execution_count": 4,
     "metadata": {},
     "output_type": "execute_result"
    }
   ],
   "source": [
    "D = Discriminator()\n",
    "D.load_state_dict(torch.load(r\"C:\\Users\\akhsh\\Desktop\\WillDo\\Idid\\modelss\\5600_D.pth\"))"
   ]
  },
  {
   "cell_type": "code",
   "execution_count": 5,
   "id": "304a0ace",
   "metadata": {},
   "outputs": [],
   "source": [
    "batch_size = 4\n",
    "\n",
    "# Utility functions\n",
    "def cuda(data):\n",
    "    if torch.cuda.is_available():\n",
    "        return data.cuda()\n",
    "    else:\n",
    "        return data\n",
    "\n",
    "def denorm(x):\n",
    "    out = (x + 1) / 2\n",
    "    return out.clamp_(0, 1)\n",
    "\n",
    "transform = transforms.Compose([transforms.Resize(64),\n",
    "                                transforms.CenterCrop(64),\n",
    "                                transforms.ToTensor(),\n",
    "                                transforms.Normalize([0.5]*3,[0.5]*3)])\n",
    "\n",
    "train_data = train_data = ImageFolder(r\"C:\\Users\\akhsh\\Desktop\\WillDo\\Idid\\samples_mnist\\celeba\", transform=transform)\n",
    "\n",
    "dataloader = DataLoader(train_data, shuffle=True, batch_size=batch_size, num_workers=4)"
   ]
  },
  {
   "cell_type": "code",
   "execution_count": 8,
   "id": "dd88d10b",
   "metadata": {},
   "outputs": [
    {
     "name": "stderr",
     "output_type": "stream",
     "text": [
      "Clipping input data to the valid range for imshow with RGB data ([0..1] for floats or [0..255] for integers).\n"
     ]
    },
    {
     "data": {
      "text/plain": [
       "<matplotlib.image.AxesImage at 0x23805307190>"
      ]
     },
     "execution_count": 8,
     "metadata": {},
     "output_type": "execute_result"
    },
    {
     "data": {
      "image/png": "[encoded data removed]",
      "text/plain": [
       "<Figure size 640x480 with 1 Axes>"
      ]
     },
     "metadata": {},
     "output_type": "display_data"
    }
   ],
   "source": [
    "plt.imshow(G(torch.randn(1,100))[0].detach().numpy().transpose(1,2,0))"
   ]
  },
  {
   "cell_type": "code",
   "execution_count": 7,
   "id": "b1a26e3e",
   "metadata": {},
   "outputs": [],
   "source": [
    "import torch\n",
    "import torch.nn as nn\n",
    "import torch.nn.functional as F\n",
    "import numpy as np\n",
    "\n",
    "EPS = 0.003\n",
    "\n",
    "def fanin_init(size, fanin=None):\n",
    "    fanin = fanin or size[0]\n",
    "    v = 1. / np.sqrt(fanin)\n",
    "    return torch.Tensor(size).uniform_(-v, v)\n",
    "\n",
    "class Critic(nn.Module):\n",
    "\n",
    "    def __init__(self, state_dim, action_dim):\n",
    "        super(Critic, self).__init__()\n",
    "        \n",
    "        self.state_dim = state_dim\n",
    "        self.action_dim = action_dim\n",
    "        \n",
    "        self.conv1 = nn.Conv2d(state_dim[0], 16, kernel_size=3, stride=1,padding=1)\n",
    "        self.conv2 = nn.Conv2d(16, 32, kernel_size=3, stride=1,padding=1)\n",
    "        self.flatten = nn.Flatten()\n",
    "        self.fc = nn.Linear(6144, 512)\n",
    "        \n",
    "        self.fcs1 = nn.Linear(512,256)\n",
    "        self.fcs1.weight.data = fanin_init(self.fcs1.weight.data.size())\n",
    "        self.fcs2 = nn.Linear(256,128)\n",
    "        self.fcs2.weight.data = fanin_init(self.fcs2.weight.data.size())\n",
    "\n",
    "        self.fca1 = nn.Linear(action_dim,128)\n",
    "        self.fca1.weight.data = fanin_init(self.fca1.weight.data.size())\n",
    "\n",
    "        self.fc2 = nn.Linear(256,128)\n",
    "        self.fc2.weight.data = fanin_init(self.fc2.weight.data.size())\n",
    "\n",
    "        self.fc3 = nn.Linear(128,1)\n",
    "        self.fc3.weight.data.uniform_(-EPS,EPS)\n",
    "\n",
    "    def forward(self, state, action):\n",
    "        \"\"\"\n",
    "        returns Value function Q(s,a) obtained from critic network\n",
    "        :param state: Input state (Torch Variable : [n,state_dim] )\n",
    "        :param action: Input Action (Torch Variable : [n,action_dim] )\n",
    "        :return: Value function : Q(S,a) (Torch Variable : [n,1] )\n",
    "        \"\"\"\n",
    "        x = nn.functional.relu(self.conv1(state))\n",
    "        x = nn.functional.relu(self.conv2(x))\n",
    "        x = self.flatten(x)\n",
    "        x = self.fc(x)\n",
    "        s1 = F.relu(self.fcs1(x))\n",
    "        s2 = F.relu(self.fcs2(s1))\n",
    "        a1 = F.relu(self.fca1(action))\n",
    "        x = torch.cat((s2,a1),dim=1)\n",
    "\n",
    "        x = F.relu(self.fc2(x))\n",
    "        x = self.fc3(x)\n",
    "\n",
    "        return x\n",
    "\n",
    "\n",
    "class Actor(nn.Module):\n",
    "\n",
    "    def __init__(self, state_dim, action_dim, action_lim):\n",
    "        super(Actor, self).__init__()\n",
    "        \n",
    "        \n",
    "        self.state_dim = state_dim\n",
    "        self.action_dim = action_dim\n",
    "        self.action_lim = action_lim\n",
    "\n",
    "        self.conv1 = nn.Conv2d(state_dim[0], 16, kernel_size=3, stride=1,padding=1)\n",
    "        self.conv2 = nn.Conv2d(16, 32, kernel_size=3, stride=1,padding=1)\n",
    "        self.flatten = nn.Flatten()\n",
    "        self.fc = nn.Linear(131072, 512)\n",
    "        \n",
    "        self.fc1 = nn.Linear(512,256)\n",
    "        self.fc1.weight.data = fanin_init(self.fc1.weight.data.size())\n",
    "\n",
    "        self.fc2 = nn.Linear(256,128)\n",
    "        self.fc2.weight.data = fanin_init(self.fc2.weight.data.size())\n",
    "\n",
    "        self.fc3 = nn.Linear(128,64)\n",
    "        self.fc3.weight.data = fanin_init(self.fc3.weight.data.size())\n",
    "\n",
    "        self.fc4 = nn.Linear(64,action_dim)\n",
    "        self.fc4.weight.data.uniform_(-EPS,EPS)\n",
    "\n",
    "    def forward(self, state):\n",
    "        x = nn.functional.relu(self.conv1(state))\n",
    "        x = nn.functional.relu(self.conv2(x))\n",
    "        x = self.flatten(x)\n",
    "        x = self.fc(x)\n",
    "        x = nn.functional.softmax(x, dim=-1)\n",
    "        x = F.relu(self.fc1(x))\n",
    "        x = F.relu(self.fc2(x))\n",
    "        x = F.relu(self.fc3(x))\n",
    "        action = F.tanh(self.fc4(x))\n",
    "\n",
    "        #action = action * self.action_lim\n",
    "\n",
    "        return action\n",
    "\n",
    "\n",
    "\n"
   ]
  },
  {
   "cell_type": "code",
   "execution_count": 9,
   "id": "96144d39",
   "metadata": {},
   "outputs": [],
   "source": [
    "def train(steps = 100000, batch_size = 64, z_dim = 100, attn = True):\n",
    "\n",
    "    G = cuda(Actor((3,64,64),100,100))\n",
    "    D = cuda(Generator())\n",
    "    D.load_state_dict(torch.load(r\"C:\\Users\\akhsh\\Desktop\\WillDo\\Idid\\modelss\\5600_G.pth\"))\n",
    "    Dis = cuda(Discriminator())\n",
    "    Dis.load_state_dict(torch.load(r\"C:\\Users\\akhsh\\Desktop\\WillDo\\Idid\\modelss\\5600_D.pth\"))\n",
    "\n",
    "    cwd = os.getcwd()\n",
    "    post='_attn' if attn else ''\n",
    "    if not os.path.exists(cwd+'/samples_celeba_f'+post):\n",
    "        os.makedirs(cwd+'/samples_celeba_f'+post)\n",
    "\n",
    "    g_optimizer = torch.optim.Adam(filter(lambda p: p.requires_grad, G.parameters()), 0.0001, [0.0,0.9])\n",
    "    loss_fn = torch.nn.MSELoss()\n",
    "    Iter = iter(dataloader)\n",
    "    \n",
    "    # Start timer\n",
    "    start_time = time.time()\n",
    "    \n",
    "    for step in range(steps):\n",
    "\n",
    "        G.train()\n",
    "        try:\n",
    "            real_images,_ = next(Iter)\n",
    "        except:\n",
    "            Iter = iter(dataloader)\n",
    "            real_images,_ = next(Iter)\n",
    "        \n",
    "\n",
    "        noise = G(cuda(real_images))\n",
    "        \n",
    "        image = D(noise)\n",
    "        g_loss_fake = (-1 * Dis(image).mean())\n",
    "        g_loss = loss_fn(cuda(real_images),image) + g_loss_fake\n",
    "        g_optimizer.zero_grad()\n",
    "        g_loss.backward()\n",
    "        g_optimizer.step()\n",
    "        \n",
    "\n",
    "        if (step + 1) % 10 == 0:\n",
    "            elapsed = time.time() - start_time\n",
    "            expect = elapsed/(step + 1)*(steps-step-1)\n",
    "            elapsed = str(datetime.timedelta(seconds=elapsed))\n",
    "            expect = str(datetime.timedelta(seconds=expect))\n",
    "            clear_output(wait=True)\n",
    "            print(\"Elapsed [{}], Expect [{}], step [{}/{}]\".\n",
    "                  format(elapsed,expect,step + 1,steps))\n",
    "\n",
    "        if (step + 1) % (100) == 0:\n",
    "            z = np.random.randint(1,noise.shape[0])\n",
    "            fake_images= D(noise)[z]\n",
    "            save_image(denorm(fake_images), os.path.join(r\"C:\\Users\\akhsh\\Desktop\\WillDo\\Idid\\trial\\image\", '{}_z__fake.png'.format(step + 1)))\n",
    "            save_image(denorm(real_images[z]), os.path.join(r\"C:\\Users\\akhsh\\Desktop\\WillDo\\Idid\\trial\\image\", '{}_z_real.png'.format(step + 1)))\n",
    "\n",
    "        if (step+1) % (1000) == 0:\n",
    "            torch.save(G.state_dict(),os.path.join(r\"C:\\Users\\akhsh\\Desktop\\WillDo\\Idid\\trial\\weight\", '{}_z_C.pth'.format(step + 1)))"
   ]
  },
  {
   "cell_type": "code",
   "execution_count": 9,
   "id": "c07e814d",
   "metadata": {},
   "outputs": [
    {
     "data": {
      "text/plain": [
       "<All keys matched successfully>"
      ]
     },
     "execution_count": 9,
     "metadata": {},
     "output_type": "execute_result"
    }
   ],
   "source": [
    "G = cuda(Actor((3,64,64),100,100))\n",
    "D = cuda(Generator())\n",
    "D.load_state_dict(torch.load(r\"C:\\Users\\akhsh\\Desktop\\WillDo\\Idid\\modelss\\5600_G.pth\"))"
   ]
  },
  {
   "cell_type": "code",
   "execution_count": 10,
   "id": "c0b7bc27",
   "metadata": {},
   "outputs": [
    {
     "data": {
      "text/plain": [
       "<All keys matched successfully>"
      ]
     },
     "execution_count": 10,
     "metadata": {},
     "output_type": "execute_result"
    }
   ],
   "source": [
    "G.load_state_dict(torch.load(r\"C:\\Users\\akhsh\\Desktop\\WillDo\\Idid\\trial\\weight\\50000_C.pth\"))"
   ]
  },
  {
   "cell_type": "code",
   "execution_count": 51,
   "id": "5fd148a9",
   "metadata": {},
   "outputs": [
    {
     "data": {
      "text/plain": [
       "tensor([[ 0.0005,  0.0171, -0.0223,  0.0548, -0.0118, -0.0725, -0.0218, -0.0256,\n",
       "          0.0427,  0.0166, -0.0135,  0.0184, -0.0249, -0.0286,  0.0081, -0.0369,\n",
       "          0.0301,  0.0210,  0.0527, -0.1163,  0.0062, -0.0325,  0.0462, -0.0961,\n",
       "          0.0082, -0.0334, -0.0001,  0.0465, -0.0521,  0.0604, -0.0091,  0.0136,\n",
       "         -0.0188,  0.0506, -0.0153, -0.0108,  0.0385,  0.0227,  0.0652,  0.0405,\n",
       "          0.0139, -0.0011,  0.0059, -0.0087, -0.0130,  0.0013,  0.0007, -0.0308,\n",
       "          0.0250, -0.0441, -0.0585,  0.0695,  0.0274, -0.0256, -0.0369,  0.0048,\n",
       "         -0.0190,  0.0302, -0.0374, -0.0031, -0.0182,  0.0095, -0.0444, -0.0384,\n",
       "         -0.0661, -0.0089,  0.0276, -0.0406, -0.0114,  0.0180,  0.0443,  0.0355,\n",
       "         -0.0138,  0.0203, -0.0242,  0.0151,  0.0287, -0.0004,  0.0167, -0.0166,\n",
       "          0.0313, -0.0018, -0.0328, -0.0208,  0.0224, -0.0271, -0.0207,  0.0072,\n",
       "         -0.0201,  0.0173, -0.0007,  0.0123, -0.0073,  0.0410,  0.0155, -0.0344,\n",
       "         -0.0273,  0.0147,  0.0167, -0.0435]], device='cuda:0',\n",
       "       grad_fn=<TanhBackward0>)"
      ]
     },
     "execution_count": 51,
     "metadata": {},
     "output_type": "execute_result"
    }
   ],
   "source": [
    "G(torch.randn(1,3,64,64).cuda())"
   ]
  },
  {
   "cell_type": "code",
   "execution_count": 52,
   "id": "b338c025",
   "metadata": {},
   "outputs": [],
   "source": [
    "fake_images= D(noise)\n",
    "save_image(denorm(fake_images), os.path.join(r\"C:\\Users\\akhsh\\Desktop\\WillDo\\Idid\\trial\", '{}_fake.png'.format(10234 + 1)))"
   ]
  }
 ],
 "metadata": {
  "kernelspec": {
   "display_name": "Python 3 (ipykernel)",
   "language": "python",
   "name": "python3"
  },
  "language_info": {
   "codemirror_mode": {
    "name": "ipython",
    "version": 3
   },
   "file_extension": ".py",
   "mimetype": "text/x-python",
   "name": "python",
   "nbconvert_exporter": "python",
   "pygments_lexer": "ipython3",
   "version": "3.9.16"
  }
 },
 "nbformat": 4,
 "nbformat_minor": 5
}
